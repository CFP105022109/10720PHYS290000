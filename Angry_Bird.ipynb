{
 "cells": [
  {
   "cell_type": "code",
   "execution_count": 28,
   "metadata": {},
   "outputs": [
    {
     "name": "stdout",
     "output_type": "stream",
     "text": [
      "initial velocity:40\n",
      "angle:40\n"
     ]
    },
    {
     "data": {
      "image/png": "[encoded data removed]",
      "text/plain": [
       "<Figure size 432x288 with 1 Axes>"
      ]
     },
     "metadata": {
      "needs_background": "light"
     },
     "output_type": "display_data"
    },
    {
     "name": "stdout",
     "output_type": "stream",
     "text": [
      "Try again!\n"
     ]
    }
   ],
   "source": [
    "import numpy as np\n",
    "import matplotlib.pyplot as plt\n",
    "from numpy import math\n",
    "\n",
    "# Pig’s location\n",
    "x = np.random.random (1) *50\n",
    "y = np.random.random (1) *30\n",
    "\n",
    "# Input\n",
    "v = int(input ('initial velocity:'))\n",
    "a = int(input ('angle:'))/180*math.pi\n",
    "t = np.linspace(0, 5, 1000, endpoint = True)\n",
    "g = -9.8\n",
    "\n",
    "# trajectory\n",
    "dx = v*math.cos(a)*t\n",
    "dy = v*math.sin(a)*t + 1/2*g*t**2\n",
    "\n",
    "\n",
    "plt.plot(dx,dy)\n",
    "plt.scatter(x,y)\n",
    "plt.xlim(0,50)\n",
    "plt.ylim(0,30)\n",
    "plt.show()\n",
    "\n",
    "#Whether hit the pig or not\n",
    "#Give a range for hitting the pig\n",
    "\n",
    "r = 5\n",
    "for n in range(0,1000):\n",
    "   if (x-np.array(dx[n]))**2+(y-np.array(dy[n]))**2<r**2:\n",
    "      a = 'You hit the pig!'\n",
    "      break\n",
    "   else :\n",
    "      a = 'Try again!'\n",
    "print(a)"
   ]
  },
  {
   "cell_type": "code",
   "execution_count": null,
   "metadata": {},
   "outputs": [],
   "source": []
  },
  {
   "cell_type": "code",
   "execution_count": null,
   "metadata": {},
   "outputs": [],
   "source": []
  }
 ],
 "metadata": {
  "kernelspec": {
   "display_name": "Python 3",
   "language": "python",
   "name": "python3"
  },
  "language_info": {
   "codemirror_mode": {
    "name": "ipython",
    "version": 3
   },
   "file_extension": ".py",
   "mimetype": "text/x-python",
   "name": "python",
   "nbconvert_exporter": "python",
   "pygments_lexer": "ipython3",
   "version": "3.7.1"
  }
 },
 "nbformat": 4,
 "nbformat_minor": 2
}
