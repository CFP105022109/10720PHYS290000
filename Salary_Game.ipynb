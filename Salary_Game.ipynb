{
 "cells": [
  {
   "cell_type": "markdown",
   "metadata": {},
   "source": [
    "### Import library"
   ]
  },
  {
   "cell_type": "code",
   "execution_count": 1,
   "metadata": {},
   "outputs": [],
   "source": [
    "import numpy as np\n",
    "import random\n",
    "import matplotlib.pyplot as plt"
   ]
  },
  {
   "cell_type": "markdown",
   "metadata": {},
   "source": [
    "初始化每個人一開始擁有的錢，並開一個array表示那個人是否還有錢"
   ]
  },
  {
   "cell_type": "code",
   "execution_count": 127,
   "metadata": {},
   "outputs": [
    {
     "name": "stdout",
     "output_type": "stream",
     "text": [
      "input number of students: 50\n",
      "starting money: 40\n",
      "dollars for one game: 10\n",
      "input total round: 1000\n"
     ]
    }
   ],
   "source": [
    "num = int(input('input number of students: '))\n",
    "start = int(input('starting money: '))\n",
    "gain = int(input('dollars for one game: '))\n",
    "tim = int(input('input total round: '))\n",
    "money = []\n",
    "able = []\n",
    "for i in range(num):\n",
    "    money.append(start)\n",
    "    able.append(1)\n",
    "# print(money[:])\n",
    "# print(able[:5])"
   ]
  },
  {
   "cell_type": "markdown",
   "metadata": {},
   "source": [
    "用ramdon決定兩人猜拳，若兩人皆還有錢就進行猜拳\n",
    "\n",
    "利用ramdon決定輸贏或是平手\n",
    "\n",
    "比完以後再去判斷輸的那方是否還有錢能進行比賽\n"
   ]
  },
  {
   "cell_type": "code",
   "execution_count": null,
   "metadata": {},
   "outputs": [],
   "source": [
    "p1 = p2 = 0\n",
    "eq = 50\n",
    "# count = 0\n",
    "for i in range (tim):\n",
    "\n",
    "    while(p1 == p2):\n",
    "        p1 = random.randint(0,num-1)\n",
    "        p2 = random.randint(0,num-1)\n",
    "        if((able[p1] == 0) or (able[p2] == 0)):\n",
    "            p1 = p2 = 0\n",
    "#             print(p1,p2)\n",
    "            continue\n",
    "    \n",
    "    a = random.choice([p1, p2, eq])\n",
    "#     count+=1\n",
    "#     print(p1,p2,a)\n",
    "    if(a == p1):\n",
    "        money[p1] = money[p1] + gain\n",
    "        money[p2] = money[p2] - gain\n",
    "        if(money[p2] == 0):\n",
    "            able[p2] = 0\n",
    "    if(a == p2):\n",
    "        money[p1] = money[p1] - gain\n",
    "        money[p2] = money[p2] + gain\n",
    "        if(money[p1] == 0):\n",
    "            able[p1] = 0\n",
    "    \n",
    "    p1 = p2 = 0\n"
   ]
  },
  {
   "cell_type": "markdown",
   "metadata": {},
   "source": [
    "將最後的結果以圖表方式呈現"
   ]
  },
  {
   "cell_type": "code",
   "execution_count": 129,
   "metadata": {
    "scrolled": true
   },
   "outputs": [
    {
     "data": {
      "text/plain": [
       "(array([25.,  0.,  4.,  4.,  5.,  2.,  3.,  1.,  4.,  2.]),\n",
       " array([  0.,  15.,  30.,  45.,  60.,  75.,  90., 105., 120., 135., 150.]),\n",
       " <a list of 10 Patch objects>)"
      ]
     },
     "execution_count": 129,
     "metadata": {},
     "output_type": "execute_result"
    },
    {
     "data": {
      "image/png": "[encoded data removed]",
      "text/plain": [
       "<Figure size 432x288 with 1 Axes>"
      ]
     },
     "metadata": {
      "needs_background": "light"
     },
     "output_type": "display_data"
    }
   ],
   "source": [
    "plt.title(\"Money v.s Number of people\")\n",
    "plt.xlabel(\"Money\")\n",
    "plt.ylabel(\"Number of people\")\n",
    "plt.hist(money)"
   ]
  },
  {
   "cell_type": "code",
   "execution_count": null,
   "metadata": {},
   "outputs": [],
   "source": []
  }
 ],
 "metadata": {
  "kernelspec": {
   "display_name": "Python 3",
   "language": "python",
   "name": "python3"
  },
  "language_info": {
   "codemirror_mode": {
    "name": "ipython",
    "version": 3
   },
   "file_extension": ".py",
   "mimetype": "text/x-python",
   "name": "python",
   "nbconvert_exporter": "python",
   "pygments_lexer": "ipython3",
   "version": "3.7.1"
  }
 },
 "nbformat": 4,
 "nbformat_minor": 2
}
